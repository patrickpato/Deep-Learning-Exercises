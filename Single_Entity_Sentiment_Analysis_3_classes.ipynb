{
  "cells": [
    {
      "cell_type": "markdown",
      "metadata": {
        "id": "view-in-github",
        "colab_type": "text"
      },
      "source": [
        "<a href=\"https://colab.research.google.com/github/patrickpato/Deep-Learning-Exercises/blob/main/Single_Entity_Sentiment_Analysis_3_classes.ipynb\" target=\"_parent\"><img src=\"https://colab.research.google.com/assets/colab-badge.svg\" alt=\"Open In Colab\"/></a>"
      ]
    },
    {
      "cell_type": "code",
      "execution_count": 1,
      "metadata": {
        "colab": {
          "base_uri": "https://localhost:8080/"
        },
        "id": "t4DnrCr0FHOI",
        "outputId": "b6928aec-f8a2-41d1-bdf9-108e2f38aef6"
      },
      "outputs": [
        {
          "output_type": "stream",
          "name": "stdout",
          "text": [
            "Looking in indexes: https://pypi.org/simple, https://us-python.pkg.dev/colab-wheels/public/simple/\n",
            "Collecting vaderSentiment\n",
            "  Downloading vaderSentiment-3.3.2-py2.py3-none-any.whl (125 kB)\n",
            "\u001b[K     |████████████████████████████████| 125 kB 4.3 MB/s \n",
            "\u001b[?25hRequirement already satisfied: requests in /usr/local/lib/python3.7/dist-packages (from vaderSentiment) (2.23.0)\n",
            "Requirement already satisfied: certifi>=2017.4.17 in /usr/local/lib/python3.7/dist-packages (from requests->vaderSentiment) (2022.5.18.1)\n",
            "Requirement already satisfied: idna<3,>=2.5 in /usr/local/lib/python3.7/dist-packages (from requests->vaderSentiment) (2.10)\n",
            "Requirement already satisfied: chardet<4,>=3.0.2 in /usr/local/lib/python3.7/dist-packages (from requests->vaderSentiment) (3.0.4)\n",
            "Requirement already satisfied: urllib3!=1.25.0,!=1.25.1,<1.26,>=1.21.1 in /usr/local/lib/python3.7/dist-packages (from requests->vaderSentiment) (1.24.3)\n",
            "Installing collected packages: vaderSentiment\n",
            "Successfully installed vaderSentiment-3.3.2\n"
          ]
        }
      ],
      "source": [
        "!pip install vaderSentiment"
      ],
      "id": "t4DnrCr0FHOI"
    },
    {
      "cell_type": "code",
      "execution_count": 2,
      "metadata": {
        "colab": {
          "base_uri": "https://localhost:8080/"
        },
        "id": "23408d4d",
        "outputId": "3f32c385-b52d-4832-d8b0-b262b2c0e783"
      },
      "outputs": [
        {
          "output_type": "stream",
          "name": "stdout",
          "text": [
            "[nltk_data] Downloading package words to /root/nltk_data...\n",
            "[nltk_data]   Unzipping corpora/words.zip.\n",
            "[nltk_data] Downloading package stopwords to /root/nltk_data...\n",
            "[nltk_data]   Unzipping corpora/stopwords.zip.\n"
          ]
        }
      ],
      "source": [
        "import numpy as np\n",
        "import pandas as pd\n",
        "import matplotlib.pyplot as plt\n",
        "from nltk.tokenize import WordPunctTokenizer\n",
        "import nltk\n",
        "#from nltk.sentiment.vader import SentimentIntensityAnalyzer\n",
        "from vaderSentiment.vaderSentiment import SentimentIntensityAnalyzer\n",
        "from nltk.tokenize import word_tokenize\n",
        "from nltk.corpus import stopwords\n",
        "from nltk.stem.porter import *\n",
        "import string\n",
        "import re\n",
        "nltk.download('words')\n",
        "nltk.download('stopwords')\n",
        "from gensim.models import KeyedVectors\n",
        "from bs4 import BeautifulSoup\n",
        "import matplotlib.pyplot as plt\n",
        "from wordcloud import WordCloud\n",
        "from wordcloud import STOPWORDS\n",
        "from wordcloud import ImageColorGenerator\n",
        "import seaborn as sns\n",
        "from sklearn.model_selection import train_test_split, KFold, cross_val_score\n",
        "from sklearn.preprocessing import LabelEncoder\n",
        "from sklearn.linear_model import LogisticRegression\n",
        "from sklearn.svm import SVC\n",
        "from sklearn.naive_bayes import GaussianNB, MultinomialNB\n",
        "from sklearn.ensemble import RandomForestClassifier\n",
        "from sklearn.feature_extraction.text import CountVectorizer, TfidfVectorizer\n",
        "from sklearn.metrics import accuracy_score, confusion_matrix, classification_report\n",
        "from xgboost import XGBClassifier"
      ],
      "id": "23408d4d"
    },
    {
      "cell_type": "code",
      "execution_count": 51,
      "metadata": {
        "id": "siGmNWR9GYCD"
      },
      "outputs": [],
      "source": [
        "#deep learning algos\n",
        "from keras.preprocessing.text import Tokenizer\n",
        "from keras.preprocessing.sequence import pad_sequences\n",
        "from keras.models import Sequential\n",
        "from tensorflow.keras import layers\n",
        "from tensorflow import keras\n",
        "from keras.layers import Dense, Embedding, LSTM, SpatialDropout1D, Conv1D,MaxPooling1D, Flatten, GRU\n",
        "from sklearn.model_selection import train_test_split\n",
        "from keras.utils.np_utils import to_categorical"
      ],
      "id": "siGmNWR9GYCD"
    },
    {
      "cell_type": "code",
      "execution_count": 4,
      "metadata": {
        "colab": {
          "base_uri": "https://localhost:8080/"
        },
        "id": "ff02d1e3",
        "outputId": "a07f0844-be44-4f18-f5eb-b87b480c1e88"
      },
      "outputs": [
        {
          "output_type": "stream",
          "name": "stdout",
          "text": [
            "[nltk_data] Downloading package vader_lexicon to /root/nltk_data...\n"
          ]
        },
        {
          "output_type": "execute_result",
          "data": {
            "text/plain": [
              "True"
            ]
          },
          "metadata": {},
          "execution_count": 4
        }
      ],
      "source": [
        "nltk.download('vader_lexicon')"
      ],
      "id": "ff02d1e3"
    },
    {
      "cell_type": "code",
      "execution_count": 5,
      "metadata": {
        "colab": {
          "base_uri": "https://localhost:8080/"
        },
        "id": "MbKlcYfPFPvD",
        "outputId": "5d567d4e-360d-4598-9698-851194acd691"
      },
      "outputs": [
        {
          "output_type": "stream",
          "name": "stdout",
          "text": [
            "Mounted at /content/gdrive\n"
          ]
        }
      ],
      "source": [
        "from google.colab import drive\n",
        "drive.mount('/content/gdrive')"
      ],
      "id": "MbKlcYfPFPvD"
    },
    {
      "cell_type": "code",
      "execution_count": 6,
      "metadata": {
        "id": "f1c46747"
      },
      "outputs": [],
      "source": [
        "def load_data(path):\n",
        "    df = pd.read_csv(path)\n",
        "    return df\n",
        "airtel_df = load_data('/content/gdrive/MyDrive/BrandComparison/airtel_labelled.csv')\n",
        "saf_df = load_data('/content/gdrive/MyDrive/BrandComparison/safaricom_labelled.csv')"
      ],
      "id": "f1c46747"
    },
    {
      "cell_type": "code",
      "execution_count": 7,
      "metadata": {
        "colab": {
          "base_uri": "https://localhost:8080/"
        },
        "id": "0bea73d8",
        "outputId": "63da1c01-7b3f-466b-d461-1232d0f92d32"
      },
      "outputs": [
        {
          "output_type": "execute_result",
          "data": {
            "text/plain": [
              "(5258, 7, 2398, 7)"
            ]
          },
          "metadata": {},
          "execution_count": 7
        }
      ],
      "source": [
        "len(saf_df), len(saf_df.columns), len(airtel_df), len(airtel_df.columns)"
      ],
      "id": "0bea73d8"
    },
    {
      "cell_type": "code",
      "execution_count": 8,
      "metadata": {
        "colab": {
          "base_uri": "https://localhost:8080/",
          "height": 243
        },
        "id": "36b35b59",
        "outputId": "dd92be13-a8bf-482d-893d-c4f9fd17ce93"
      },
      "outputs": [
        {
          "output_type": "execute_result",
          "data": {
            "text/plain": [
              "                        date  \\\n",
              "0  2022-06-03 23:45:24+00:00   \n",
              "1  2022-06-03 23:34:18+00:00   \n",
              "\n",
              "                                               tweet  \\\n",
              "0  @domoo_d Hi, apologies for the inconvenience c...   \n",
              "1  @OlingaAbdul : Hello, We're currently experien...   \n",
              "\n",
              "                                        clean_tweets  positivity_scores  \\\n",
              "0  hi  apologies inconvenience caused  kindly fol...              0.265   \n",
              "1    hello  we re currently experiencing system i...              0.300   \n",
              "\n",
              "   negativity_scores  overall_scores    labels  \n",
              "0              0.147          0.2500  positive  \n",
              "1              0.000          0.8271  positive  "
            ],
            "text/html": [
              "\n",
              "  <div id=\"df-b4c37f94-e087-47bf-841d-b5b0b2ad0b83\">\n",
              "    <div class=\"colab-df-container\">\n",
              "      <div>\n",
              "<style scoped>\n",
              "    .dataframe tbody tr th:only-of-type {\n",
              "        vertical-align: middle;\n",
              "    }\n",
              "\n",
              "    .dataframe tbody tr th {\n",
              "        vertical-align: top;\n",
              "    }\n",
              "\n",
              "    .dataframe thead th {\n",
              "        text-align: right;\n",
              "    }\n",
              "</style>\n",
              "<table border=\"1\" class=\"dataframe\">\n",
              "  <thead>\n",
              "    <tr style=\"text-align: right;\">\n",
              "      <th></th>\n",
              "      <th>date</th>\n",
              "      <th>tweet</th>\n",
              "      <th>clean_tweets</th>\n",
              "      <th>positivity_scores</th>\n",
              "      <th>negativity_scores</th>\n",
              "      <th>overall_scores</th>\n",
              "      <th>labels</th>\n",
              "    </tr>\n",
              "  </thead>\n",
              "  <tbody>\n",
              "    <tr>\n",
              "      <th>0</th>\n",
              "      <td>2022-06-03 23:45:24+00:00</td>\n",
              "      <td>@domoo_d Hi, apologies for the inconvenience c...</td>\n",
              "      <td>hi  apologies inconvenience caused  kindly fol...</td>\n",
              "      <td>0.265</td>\n",
              "      <td>0.147</td>\n",
              "      <td>0.2500</td>\n",
              "      <td>positive</td>\n",
              "    </tr>\n",
              "    <tr>\n",
              "      <th>1</th>\n",
              "      <td>2022-06-03 23:34:18+00:00</td>\n",
              "      <td>@OlingaAbdul : Hello, We're currently experien...</td>\n",
              "      <td>hello  we re currently experiencing system i...</td>\n",
              "      <td>0.300</td>\n",
              "      <td>0.000</td>\n",
              "      <td>0.8271</td>\n",
              "      <td>positive</td>\n",
              "    </tr>\n",
              "  </tbody>\n",
              "</table>\n",
              "</div>\n",
              "      <button class=\"colab-df-convert\" onclick=\"convertToInteractive('df-b4c37f94-e087-47bf-841d-b5b0b2ad0b83')\"\n",
              "              title=\"Convert this dataframe to an interactive table.\"\n",
              "              style=\"display:none;\">\n",
              "        \n",
              "  <svg xmlns=\"http://www.w3.org/2000/svg\" height=\"24px\"viewBox=\"0 0 24 24\"\n",
              "       width=\"24px\">\n",
              "    <path d=\"M0 0h24v24H0V0z\" fill=\"none\"/>\n",
              "    <path d=\"M18.56 5.44l.94 2.06.94-2.06 2.06-.94-2.06-.94-.94-2.06-.94 2.06-2.06.94zm-11 1L8.5 8.5l.94-2.06 2.06-.94-2.06-.94L8.5 2.5l-.94 2.06-2.06.94zm10 10l.94 2.06.94-2.06 2.06-.94-2.06-.94-.94-2.06-.94 2.06-2.06.94z\"/><path d=\"M17.41 7.96l-1.37-1.37c-.4-.4-.92-.59-1.43-.59-.52 0-1.04.2-1.43.59L10.3 9.45l-7.72 7.72c-.78.78-.78 2.05 0 2.83L4 21.41c.39.39.9.59 1.41.59.51 0 1.02-.2 1.41-.59l7.78-7.78 2.81-2.81c.8-.78.8-2.07 0-2.86zM5.41 20L4 18.59l7.72-7.72 1.47 1.35L5.41 20z\"/>\n",
              "  </svg>\n",
              "      </button>\n",
              "      \n",
              "  <style>\n",
              "    .colab-df-container {\n",
              "      display:flex;\n",
              "      flex-wrap:wrap;\n",
              "      gap: 12px;\n",
              "    }\n",
              "\n",
              "    .colab-df-convert {\n",
              "      background-color: #E8F0FE;\n",
              "      border: none;\n",
              "      border-radius: 50%;\n",
              "      cursor: pointer;\n",
              "      display: none;\n",
              "      fill: #1967D2;\n",
              "      height: 32px;\n",
              "      padding: 0 0 0 0;\n",
              "      width: 32px;\n",
              "    }\n",
              "\n",
              "    .colab-df-convert:hover {\n",
              "      background-color: #E2EBFA;\n",
              "      box-shadow: 0px 1px 2px rgba(60, 64, 67, 0.3), 0px 1px 3px 1px rgba(60, 64, 67, 0.15);\n",
              "      fill: #174EA6;\n",
              "    }\n",
              "\n",
              "    [theme=dark] .colab-df-convert {\n",
              "      background-color: #3B4455;\n",
              "      fill: #D2E3FC;\n",
              "    }\n",
              "\n",
              "    [theme=dark] .colab-df-convert:hover {\n",
              "      background-color: #434B5C;\n",
              "      box-shadow: 0px 1px 3px 1px rgba(0, 0, 0, 0.15);\n",
              "      filter: drop-shadow(0px 1px 2px rgba(0, 0, 0, 0.3));\n",
              "      fill: #FFFFFF;\n",
              "    }\n",
              "  </style>\n",
              "\n",
              "      <script>\n",
              "        const buttonEl =\n",
              "          document.querySelector('#df-b4c37f94-e087-47bf-841d-b5b0b2ad0b83 button.colab-df-convert');\n",
              "        buttonEl.style.display =\n",
              "          google.colab.kernel.accessAllowed ? 'block' : 'none';\n",
              "\n",
              "        async function convertToInteractive(key) {\n",
              "          const element = document.querySelector('#df-b4c37f94-e087-47bf-841d-b5b0b2ad0b83');\n",
              "          const dataTable =\n",
              "            await google.colab.kernel.invokeFunction('convertToInteractive',\n",
              "                                                     [key], {});\n",
              "          if (!dataTable) return;\n",
              "\n",
              "          const docLinkHtml = 'Like what you see? Visit the ' +\n",
              "            '<a target=\"_blank\" href=https://colab.research.google.com/notebooks/data_table.ipynb>data table notebook</a>'\n",
              "            + ' to learn more about interactive tables.';\n",
              "          element.innerHTML = '';\n",
              "          dataTable['output_type'] = 'display_data';\n",
              "          await google.colab.output.renderOutput(dataTable, element);\n",
              "          const docLink = document.createElement('div');\n",
              "          docLink.innerHTML = docLinkHtml;\n",
              "          element.appendChild(docLink);\n",
              "        }\n",
              "      </script>\n",
              "    </div>\n",
              "  </div>\n",
              "  "
            ]
          },
          "metadata": {},
          "execution_count": 8
        }
      ],
      "source": [
        "saf_df.head(2)"
      ],
      "id": "36b35b59"
    },
    {
      "cell_type": "code",
      "source": [
        "le = LabelEncoder()\n",
        "labels = saf_df['labels']\n",
        "target = le.fit_transform(labels)"
      ],
      "metadata": {
        "id": "PSfxlrMNeldw"
      },
      "id": "PSfxlrMNeldw",
      "execution_count": 9,
      "outputs": []
    },
    {
      "cell_type": "markdown",
      "metadata": {
        "id": "cxyBHiecLdll"
      },
      "source": [
        "# Deep Learning Algos"
      ],
      "id": "cxyBHiecLdll"
    },
    {
      "cell_type": "markdown",
      "metadata": {
        "id": "rbmCT2KgLnjY"
      },
      "source": [
        "## LSTM"
      ],
      "id": "rbmCT2KgLnjY"
    },
    {
      "cell_type": "code",
      "execution_count": 10,
      "metadata": {
        "id": "BQDzb9ERGsOf"
      },
      "outputs": [],
      "source": [
        "#using keras' tokenizer for encoding. \n",
        "#we extract maximum features from the EDA on char length distribution\n",
        "char_length = 60\n",
        "def tokenize_text(max_char_length, text):\n",
        "  max_features = max_char_length\n",
        "  tokenizer = Tokenizer(num_words = max_features, split = \" \")\n",
        "  tokenizer.fit_on_texts(text)\n",
        "  X = tokenizer.texts_to_sequences(text)\n",
        "  X = pad_sequences(X)\n",
        "  return X, len(tokenizer.word_index)\n"
      ],
      "id": "BQDzb9ERGsOf"
    },
    {
      "cell_type": "code",
      "source": [
        "saf_df = saf_df.dropna()\n",
        "airtel_df = airtel_df.dropna()"
      ],
      "metadata": {
        "id": "-WIJp0RyYIAM"
      },
      "id": "-WIJp0RyYIAM",
      "execution_count": 12,
      "outputs": []
    },
    {
      "cell_type": "code",
      "source": [
        "lstm_features_saf, vocab_size_saf = tokenize_text(60, saf_df['clean_tweets'])\n",
        "lstm_features_saf.shape, vocab_size_saf"
      ],
      "metadata": {
        "colab": {
          "base_uri": "https://localhost:8080/"
        },
        "id": "qpSVTd2lYAWp",
        "outputId": "db3fcc8e-4799-4c5e-8b2a-410af5c043b5"
      },
      "id": "qpSVTd2lYAWp",
      "execution_count": 14,
      "outputs": [
        {
          "output_type": "execute_result",
          "data": {
            "text/plain": [
              "((5245, 40), 10115)"
            ]
          },
          "metadata": {},
          "execution_count": 14
        }
      ]
    },
    {
      "cell_type": "code",
      "source": [
        "lstm_features_airtel, vocab_size_airtel = tokenize_text(60, airtel_df['clean_tweets'])\n",
        "lstm_features_airtel.shape, vocab_size_airtel"
      ],
      "metadata": {
        "colab": {
          "base_uri": "https://localhost:8080/"
        },
        "id": "_0YuW3C_YOPu",
        "outputId": "ba9bd457-6090-4aa7-baf9-4d02bddddd83"
      },
      "id": "_0YuW3C_YOPu",
      "execution_count": 15,
      "outputs": [
        {
          "output_type": "execute_result",
          "data": {
            "text/plain": [
              "((2394, 42), 4544)"
            ]
          },
          "metadata": {},
          "execution_count": 15
        }
      ]
    },
    {
      "cell_type": "code",
      "execution_count": 30,
      "metadata": {
        "colab": {
          "base_uri": "https://localhost:8080/"
        },
        "id": "Na6lHz8SHhWH",
        "outputId": "d8d31f30-0e52-4003-84e9-b6b6b36f7924"
      },
      "outputs": [
        {
          "output_type": "stream",
          "name": "stdout",
          "text": [
            "Model: \"sequential_6\"\n",
            "_________________________________________________________________\n",
            " Layer (type)                Output Shape              Param #   \n",
            "=================================================================\n",
            " embedding_6 (Embedding)     (None, 40, 150)           1517250   \n",
            "                                                                 \n",
            " spatial_dropout1d_4 (Spatia  (None, 40, 150)          0         \n",
            " lDropout1D)                                                     \n",
            "                                                                 \n",
            " lstm_3 (LSTM)               (None, 196)               272048    \n",
            "                                                                 \n",
            " dense_5 (Dense)             (None, 3)                 591       \n",
            "                                                                 \n",
            "=================================================================\n",
            "Total params: 1,789,889\n",
            "Trainable params: 1,789,889\n",
            "Non-trainable params: 0\n",
            "_________________________________________________________________\n",
            "None\n"
          ]
        }
      ],
      "source": [
        "\n",
        "embed_dim = 150\n",
        "lstm_out = 196\n",
        "lstm_model = Sequential()\n",
        "lstm_model.add(Embedding(10115, embed_dim, input_length = 40)) # for airtel df, change from 10115 to 4544\n",
        "lstm_model.add(SpatialDropout1D(0.2))\n",
        "lstm_model.add(LSTM(lstm_out, dropout = 0.2, recurrent_dropout = 0.2))\n",
        "lstm_model.add(Dense(3, activation=\"softmax\"))\n",
        "lstm_model.compile(loss=\"SparseCategoricalCrossentropy\",optimizer=\"adam\", metrics=[\"accuracy\"])\n",
        "print(lstm_model.summary())\n"
      ],
      "id": "Na6lHz8SHhWH"
    },
    {
      "cell_type": "code",
      "source": [
        "\n",
        "embed_dim = 150\n",
        "GRU_out = 196\n",
        "GRU_model = Sequential()\n",
        "GRU_model.add(Embedding(10115, embed_dim, input_length = 40)) # for airtel df, change from 10115 to 4544\n",
        "GRU_model.add(SpatialDropout1D(0.2))\n",
        "GRU_model.add(GRU(GRU_out, dropout = 0.2, recurrent_dropout = 0.2))\n",
        "GRU_model.add(Dense(3, activation=\"softmax\"))\n",
        "GRU_model.compile(loss=\"SparseCategoricalCrossentropy\",optimizer=\"adam\", metrics=[\"accuracy\"])\n",
        "print(GRU_model.summary())"
      ],
      "metadata": {
        "id": "3gpqjL5J9s6l",
        "outputId": "653e8610-f942-4b95-9d45-35fd85b7f98e",
        "colab": {
          "base_uri": "https://localhost:8080/"
        }
      },
      "id": "3gpqjL5J9s6l",
      "execution_count": 52,
      "outputs": [
        {
          "output_type": "stream",
          "name": "stdout",
          "text": [
            "Model: \"sequential_18\"\n",
            "_________________________________________________________________\n",
            " Layer (type)                Output Shape              Param #   \n",
            "=================================================================\n",
            " embedding_18 (Embedding)    (None, 40, 150)           1517250   \n",
            "                                                                 \n",
            " spatial_dropout1d_5 (Spatia  (None, 40, 150)          0         \n",
            " lDropout1D)                                                     \n",
            "                                                                 \n",
            " gru_16 (GRU)                (None, 196)               204624    \n",
            "                                                                 \n",
            " dense_12 (Dense)            (None, 3)                 591       \n",
            "                                                                 \n",
            "=================================================================\n",
            "Total params: 1,722,465\n",
            "Trainable params: 1,722,465\n",
            "Non-trainable params: 0\n",
            "_________________________________________________________________\n",
            "None\n"
          ]
        }
      ]
    },
    {
      "cell_type": "code",
      "source": [
        "#encoding categorical col\n",
        "le = LabelEncoder()\n",
        "saf_labels = le.fit_transform(saf_df['labels'])\n",
        "airtel_labels = le.fit_transform(airtel_df['labels'])"
      ],
      "metadata": {
        "id": "IzxOA30Gc1ID"
      },
      "id": "IzxOA30Gc1ID",
      "execution_count": 57,
      "outputs": []
    },
    {
      "cell_type": "code",
      "execution_count": 36,
      "metadata": {
        "id": "TNKf4VPKHgJ0"
      },
      "outputs": [],
      "source": [
        "tok_train, tok_test, y_train, y_test = train_test_split(lstm_features_saf, saf_labels)"
      ],
      "id": "TNKf4VPKHgJ0"
    },
    {
      "cell_type": "code",
      "execution_count": 37,
      "metadata": {
        "id": "GAllvM-rJMkv",
        "colab": {
          "base_uri": "https://localhost:8080/"
        },
        "outputId": "8a315aea-fbca-49cd-af68-fef2f302a0d2"
      },
      "outputs": [
        {
          "output_type": "stream",
          "name": "stdout",
          "text": [
            "Epoch 1/20\n",
            "123/123 - 32s - loss: 0.9927 - accuracy: 0.5083 - 32s/epoch - 261ms/step\n",
            "Epoch 2/20\n",
            "123/123 - 30s - loss: 0.8989 - accuracy: 0.5601 - 30s/epoch - 248ms/step\n",
            "Epoch 3/20\n",
            "123/123 - 30s - loss: 0.8704 - accuracy: 0.5789 - 30s/epoch - 245ms/step\n",
            "Epoch 4/20\n",
            "123/123 - 30s - loss: 0.8617 - accuracy: 0.5823 - 30s/epoch - 244ms/step\n",
            "Epoch 5/20\n",
            "123/123 - 33s - loss: 0.8629 - accuracy: 0.5853 - 33s/epoch - 265ms/step\n",
            "Epoch 6/20\n",
            "123/123 - 30s - loss: 0.8571 - accuracy: 0.5945 - 30s/epoch - 245ms/step\n",
            "Epoch 7/20\n",
            "123/123 - 30s - loss: 0.8533 - accuracy: 0.5861 - 30s/epoch - 246ms/step\n",
            "Epoch 8/20\n",
            "123/123 - 30s - loss: 0.8432 - accuracy: 0.5985 - 30s/epoch - 247ms/step\n",
            "Epoch 9/20\n",
            "123/123 - 30s - loss: 0.8409 - accuracy: 0.5939 - 30s/epoch - 246ms/step\n",
            "Epoch 10/20\n",
            "123/123 - 32s - loss: 0.8364 - accuracy: 0.6046 - 32s/epoch - 260ms/step\n",
            "Epoch 11/20\n",
            "123/123 - 31s - loss: 0.8326 - accuracy: 0.6077 - 31s/epoch - 254ms/step\n",
            "Epoch 12/20\n",
            "123/123 - 31s - loss: 0.8269 - accuracy: 0.6087 - 31s/epoch - 252ms/step\n",
            "Epoch 13/20\n",
            "123/123 - 31s - loss: 0.8211 - accuracy: 0.6158 - 31s/epoch - 250ms/step\n",
            "Epoch 14/20\n",
            "123/123 - 31s - loss: 0.8167 - accuracy: 0.6128 - 31s/epoch - 254ms/step\n",
            "Epoch 15/20\n",
            "123/123 - 32s - loss: 0.8105 - accuracy: 0.6176 - 32s/epoch - 264ms/step\n",
            "Epoch 16/20\n",
            "123/123 - 31s - loss: 0.8064 - accuracy: 0.6212 - 31s/epoch - 253ms/step\n",
            "Epoch 17/20\n",
            "123/123 - 30s - loss: 0.7956 - accuracy: 0.6306 - 30s/epoch - 247ms/step\n",
            "Epoch 18/20\n",
            "123/123 - 30s - loss: 0.7897 - accuracy: 0.6311 - 30s/epoch - 248ms/step\n",
            "Epoch 19/20\n",
            "123/123 - 31s - loss: 0.7836 - accuracy: 0.6412 - 31s/epoch - 255ms/step\n",
            "Epoch 20/20\n",
            "123/123 - 31s - loss: 0.7787 - accuracy: 0.6397 - 31s/epoch - 250ms/step\n"
          ]
        },
        {
          "output_type": "execute_result",
          "data": {
            "text/plain": [
              "<keras.callbacks.History at 0x7fb81a25ad10>"
            ]
          },
          "metadata": {},
          "execution_count": 37
        }
      ],
      "source": [
        "#training\n",
        "batch_size = 32\n",
        "lstm_model.fit(tok_train, y_train, epochs = 20, batch_size=batch_size, verbose = 2)"
      ],
      "id": "GAllvM-rJMkv"
    },
    {
      "cell_type": "code",
      "source": [
        "GRU_model.fit(tok_train, y_train, epochs = 20, batch_size=batch_size, verbose = 2)"
      ],
      "metadata": {
        "id": "GOVjKgTK5pZA",
        "outputId": "67ffb1e6-8805-4e82-e969-2369f4c43c4a",
        "colab": {
          "base_uri": "https://localhost:8080/"
        }
      },
      "id": "GOVjKgTK5pZA",
      "execution_count": 55,
      "outputs": [
        {
          "output_type": "stream",
          "name": "stdout",
          "text": [
            "Epoch 1/20\n",
            "123/123 - 31s - loss: 0.9788 - accuracy: 0.5200 - 31s/epoch - 253ms/step\n",
            "Epoch 2/20\n",
            "123/123 - 28s - loss: 0.8951 - accuracy: 0.5627 - 28s/epoch - 226ms/step\n",
            "Epoch 3/20\n",
            "123/123 - 30s - loss: 0.8737 - accuracy: 0.5792 - 30s/epoch - 244ms/step\n",
            "Epoch 4/20\n",
            "123/123 - 28s - loss: 0.8650 - accuracy: 0.5858 - 28s/epoch - 228ms/step\n",
            "Epoch 5/20\n",
            "123/123 - 28s - loss: 0.8594 - accuracy: 0.5922 - 28s/epoch - 225ms/step\n",
            "Epoch 6/20\n",
            "123/123 - 28s - loss: 0.8540 - accuracy: 0.5965 - 28s/epoch - 230ms/step\n",
            "Epoch 7/20\n",
            "123/123 - 28s - loss: 0.8473 - accuracy: 0.5978 - 28s/epoch - 227ms/step\n",
            "Epoch 8/20\n",
            "123/123 - 27s - loss: 0.8403 - accuracy: 0.6069 - 27s/epoch - 222ms/step\n",
            "Epoch 9/20\n",
            "123/123 - 28s - loss: 0.8382 - accuracy: 0.6006 - 28s/epoch - 228ms/step\n",
            "Epoch 10/20\n",
            "123/123 - 29s - loss: 0.8354 - accuracy: 0.6051 - 29s/epoch - 237ms/step\n",
            "Epoch 11/20\n",
            "123/123 - 28s - loss: 0.8275 - accuracy: 0.6148 - 28s/epoch - 226ms/step\n",
            "Epoch 12/20\n",
            "123/123 - 28s - loss: 0.8256 - accuracy: 0.6095 - 28s/epoch - 228ms/step\n",
            "Epoch 13/20\n",
            "123/123 - 28s - loss: 0.8184 - accuracy: 0.6123 - 28s/epoch - 229ms/step\n",
            "Epoch 14/20\n",
            "123/123 - 31s - loss: 0.8127 - accuracy: 0.6181 - 31s/epoch - 250ms/step\n",
            "Epoch 15/20\n",
            "123/123 - 28s - loss: 0.8067 - accuracy: 0.6204 - 28s/epoch - 230ms/step\n",
            "Epoch 16/20\n",
            "123/123 - 27s - loss: 0.7978 - accuracy: 0.6265 - 27s/epoch - 223ms/step\n",
            "Epoch 17/20\n",
            "123/123 - 28s - loss: 0.7955 - accuracy: 0.6331 - 28s/epoch - 225ms/step\n",
            "Epoch 18/20\n",
            "123/123 - 27s - loss: 0.7845 - accuracy: 0.6354 - 27s/epoch - 222ms/step\n",
            "Epoch 19/20\n",
            "123/123 - 28s - loss: 0.7769 - accuracy: 0.6372 - 28s/epoch - 227ms/step\n",
            "Epoch 20/20\n",
            "123/123 - 27s - loss: 0.7665 - accuracy: 0.6486 - 27s/epoch - 223ms/step\n"
          ]
        },
        {
          "output_type": "execute_result",
          "data": {
            "text/plain": [
              "<keras.callbacks.History at 0x7fb81ae8ae90>"
            ]
          },
          "metadata": {},
          "execution_count": 55
        }
      ]
    },
    {
      "cell_type": "code",
      "execution_count": 56,
      "metadata": {
        "colab": {
          "base_uri": "https://localhost:8080/"
        },
        "id": "-DqDWYylJ_2d",
        "outputId": "bdce6f4a-62cb-4f5c-ef17-092c8e005dd7"
      },
      "outputs": [
        {
          "output_type": "stream",
          "name": "stdout",
          "text": [
            "41/41 - 2s - loss: 0.8873 - accuracy: 0.5907 - 2s/epoch - 45ms/step\n",
            "41/41 - 1s - loss: 0.8860 - accuracy: 0.6037 - 1s/epoch - 35ms/step\n",
            "LSTM acc: 0.59\n",
            "GRU acc: 0.60\n"
          ]
        }
      ],
      "source": [
        "#testing model performance\n",
        "lstm_score,lstm_acc = lstm_model.evaluate(tok_test, y_test, verbose = 2, batch_size = batch_size)\n",
        "GRU_score, GRU_acc = GRU_model.evaluate(tok_test, y_test, verbose=2, batch_size=batch_size)\n",
        "#print(\"score: %.2f\" % (score))\n",
        "print(\"LSTM acc: %.2f\" % (lstm_acc))\n",
        "print(\"GRU acc: %.2f\" % (GRU_acc))"
      ],
      "id": "-DqDWYylJ_2d"
    },
    {
      "cell_type": "markdown",
      "metadata": {
        "id": "sZVx8wO6L5Q4"
      },
      "source": [
        "## CNN"
      ],
      "id": "sZVx8wO6L5Q4"
    },
    {
      "cell_type": "code",
      "execution_count": 58,
      "metadata": {
        "colab": {
          "base_uri": "https://localhost:8080/"
        },
        "id": "ueI1R3qxLK14",
        "outputId": "7299b612-5cab-473f-c309-dca41bfb5048"
      },
      "outputs": [
        {
          "output_type": "stream",
          "name": "stdout",
          "text": [
            "Model: \"sequential_20\"\n",
            "_________________________________________________________________\n",
            " Layer (type)                Output Shape              Param #   \n",
            "=================================================================\n",
            " embedding_20 (Embedding)    (None, 60, 150)           1517250   \n",
            "                                                                 \n",
            " conv1d (Conv1D)             (None, 60, 128)           76928     \n",
            "                                                                 \n",
            " max_pooling1d (MaxPooling1D  (None, 30, 128)          0         \n",
            " )                                                               \n",
            "                                                                 \n",
            " conv1d_1 (Conv1D)           (None, 30, 64)            32832     \n",
            "                                                                 \n",
            " max_pooling1d_1 (MaxPooling  (None, 15, 64)           0         \n",
            " 1D)                                                             \n",
            "                                                                 \n",
            " conv1d_2 (Conv1D)           (None, 15, 32)            8224      \n",
            "                                                                 \n",
            " max_pooling1d_2 (MaxPooling  (None, 7, 32)            0         \n",
            " 1D)                                                             \n",
            "                                                                 \n",
            " flatten (Flatten)           (None, 224)               0         \n",
            "                                                                 \n",
            " dense_14 (Dense)            (None, 256)               57600     \n",
            "                                                                 \n",
            " dense_15 (Dense)            (None, 3)                 771       \n",
            "                                                                 \n",
            "=================================================================\n",
            "Total params: 1,693,605\n",
            "Trainable params: 1,693,605\n",
            "Non-trainable params: 0\n",
            "_________________________________________________________________\n"
          ]
        }
      ],
      "source": [
        "# create the model\n",
        "cnn_model = Sequential()\n",
        "cnn_model.add(Embedding(10115, embed_dim, input_length=char_length))\n",
        "cnn_model.add(Conv1D(filters=128, kernel_size=4, padding='same', activation='relu'))\n",
        "cnn_model.add(MaxPooling1D(pool_size=2))\n",
        "cnn_model.add(Conv1D(filters=64, kernel_size=4, padding='same', activation='relu'))\n",
        "cnn_model.add(MaxPooling1D(pool_size=2))\n",
        "cnn_model.add(Conv1D(filters=32, kernel_size=4, padding='same', activation='relu'))\n",
        "cnn_model.add(MaxPooling1D(pool_size=2))\n",
        "cnn_model.add(Flatten())\n",
        "cnn_model.add(Dense(256, activation='relu'))\n",
        "cnn_model.add(Dense(3, activation='softmax'))\n",
        "cnn_model.compile(loss='SparseCategoricalCrossentropy', optimizer='adam', metrics=['accuracy'])\n",
        "cnn_model.summary()"
      ],
      "id": "ueI1R3qxLK14"
    },
    {
      "cell_type": "code",
      "execution_count": 59,
      "metadata": {
        "colab": {
          "base_uri": "https://localhost:8080/"
        },
        "id": "xqVQ2tdRPhJT",
        "outputId": "6d5e8002-a4f4-4d25-e76b-3ded8931a41d"
      },
      "outputs": [
        {
          "output_type": "stream",
          "name": "stdout",
          "text": [
            "Epoch 1/20\n",
            "111/111 [==============================] - 32s 255ms/step - loss: 0.9914 - accuracy: 0.5146 - val_loss: 0.9328 - val_accuracy: 0.5279\n",
            "Epoch 2/20\n",
            "111/111 [==============================] - 28s 252ms/step - loss: 0.8992 - accuracy: 0.5555 - val_loss: 0.8863 - val_accuracy: 0.5812\n",
            "Epoch 3/20\n",
            "111/111 [==============================] - 28s 254ms/step - loss: 0.8767 - accuracy: 0.5742 - val_loss: 0.8731 - val_accuracy: 0.5939\n",
            "Epoch 4/20\n",
            "111/111 [==============================] - 30s 267ms/step - loss: 0.8693 - accuracy: 0.5812 - val_loss: 0.8755 - val_accuracy: 0.5888\n",
            "Epoch 5/20\n",
            "111/111 [==============================] - 28s 252ms/step - loss: 0.8544 - accuracy: 0.5914 - val_loss: 0.8760 - val_accuracy: 0.5964\n",
            "Epoch 6/20\n",
            "111/111 [==============================] - 28s 253ms/step - loss: 0.8552 - accuracy: 0.5880 - val_loss: 0.8770 - val_accuracy: 0.5787\n",
            "Epoch 7/20\n",
            "111/111 [==============================] - 28s 250ms/step - loss: 0.8537 - accuracy: 0.5925 - val_loss: 0.9060 - val_accuracy: 0.5660\n",
            "Epoch 8/20\n",
            "111/111 [==============================] - 28s 257ms/step - loss: 0.8534 - accuracy: 0.5951 - val_loss: 0.8764 - val_accuracy: 0.5939\n",
            "Epoch 9/20\n",
            "111/111 [==============================] - 28s 256ms/step - loss: 0.8453 - accuracy: 0.5920 - val_loss: 0.8725 - val_accuracy: 0.5964\n",
            "Epoch 10/20\n",
            "111/111 [==============================] - 28s 252ms/step - loss: 0.8375 - accuracy: 0.5996 - val_loss: 0.8575 - val_accuracy: 0.6041\n",
            "Epoch 11/20\n",
            "111/111 [==============================] - 28s 254ms/step - loss: 0.8367 - accuracy: 0.6002 - val_loss: 0.8956 - val_accuracy: 0.5838\n",
            "Epoch 12/20\n",
            "111/111 [==============================] - 29s 259ms/step - loss: 0.8326 - accuracy: 0.5968 - val_loss: 0.8916 - val_accuracy: 0.5939\n",
            "Epoch 13/20\n",
            "111/111 [==============================] - 29s 266ms/step - loss: 0.8269 - accuracy: 0.6132 - val_loss: 0.8532 - val_accuracy: 0.6091\n",
            "Epoch 14/20\n",
            "111/111 [==============================] - 30s 275ms/step - loss: 0.8216 - accuracy: 0.6126 - val_loss: 0.8730 - val_accuracy: 0.5990\n",
            "Epoch 15/20\n",
            "111/111 [==============================] - 29s 261ms/step - loss: 0.8168 - accuracy: 0.6106 - val_loss: 0.8559 - val_accuracy: 0.6015\n",
            "Epoch 16/20\n",
            "111/111 [==============================] - 29s 261ms/step - loss: 0.8091 - accuracy: 0.6149 - val_loss: 0.8761 - val_accuracy: 0.6142\n",
            "Epoch 17/20\n",
            "111/111 [==============================] - 29s 263ms/step - loss: 0.8042 - accuracy: 0.6168 - val_loss: 0.8976 - val_accuracy: 0.5736\n",
            "Epoch 18/20\n",
            "111/111 [==============================] - 29s 262ms/step - loss: 0.8011 - accuracy: 0.6256 - val_loss: 0.8955 - val_accuracy: 0.5888\n",
            "Epoch 19/20\n",
            "111/111 [==============================] - 29s 259ms/step - loss: 0.7956 - accuracy: 0.6236 - val_loss: 0.8874 - val_accuracy: 0.6066\n",
            "Epoch 20/20\n",
            "111/111 [==============================] - 29s 260ms/step - loss: 0.7847 - accuracy: 0.6250 - val_loss: 0.8816 - val_accuracy: 0.5914\n"
          ]
        },
        {
          "output_type": "execute_result",
          "data": {
            "text/plain": [
              "<keras.callbacks.History at 0x7fb81772dc10>"
            ]
          },
          "metadata": {},
          "execution_count": 59
        }
      ],
      "source": [
        "# Fit the model\n",
        "model.fit(tok_train, y_train, \n",
        "          validation_split=0.1,\n",
        "          epochs=20, \n",
        "          batch_size=32, \n",
        "          verbose=1)"
      ],
      "id": "xqVQ2tdRPhJT"
    },
    {
      "cell_type": "code",
      "execution_count": 60,
      "metadata": {
        "id": "kIvO-Q8zQFaE",
        "colab": {
          "base_uri": "https://localhost:8080/"
        },
        "outputId": "e8b5def5-51fd-42da-f62f-a1f75e754550"
      },
      "outputs": [
        {
          "output_type": "stream",
          "name": "stdout",
          "text": [
            "41/41 - 2s - loss: 0.8667 - accuracy: 0.5907 - 2s/epoch - 39ms/step\n"
          ]
        },
        {
          "output_type": "execute_result",
          "data": {
            "text/plain": [
              "0.5907012224197388"
            ]
          },
          "metadata": {},
          "execution_count": 60
        }
      ],
      "source": [
        "CNN_score, CNN_acc = model.evaluate(tok_test, y_test, verbose=2, batch_size=batch_size)\n",
        "CNN_acc"
      ],
      "id": "kIvO-Q8zQFaE"
    },
    {
      "cell_type": "code",
      "source": [
        ""
      ],
      "metadata": {
        "id": "pLyUaUqAHCXH"
      },
      "id": "pLyUaUqAHCXH",
      "execution_count": null,
      "outputs": []
    }
  ],
  "metadata": {
    "colab": {
      "name": "Single Entity Sentiment Analysis-3_classes.ipynb",
      "provenance": [],
      "include_colab_link": true
    },
    "kernelspec": {
      "display_name": "Python 3 (ipykernel)",
      "language": "python",
      "name": "python3"
    },
    "language_info": {
      "codemirror_mode": {
        "name": "ipython",
        "version": 3
      },
      "file_extension": ".py",
      "mimetype": "text/x-python",
      "name": "python",
      "nbconvert_exporter": "python",
      "pygments_lexer": "ipython3",
      "version": "3.8.10"
    }
  },
  "nbformat": 4,
  "nbformat_minor": 5
}