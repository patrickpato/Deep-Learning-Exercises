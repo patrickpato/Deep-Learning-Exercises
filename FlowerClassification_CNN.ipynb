{
  "nbformat": 4,
  "nbformat_minor": 0,
  "metadata": {
    "colab": {
      "name": "FlowerClassification-CNN.ipynb",
      "provenance": [],
      "authorship_tag": "ABX9TyPZty1Wb8enK7eWHx0XasbA",
      "include_colab_link": true
    },
    "kernelspec": {
      "name": "python3",
      "display_name": "Python 3"
    },
    "language_info": {
      "name": "python"
    }
  },
  "cells": [
    {
      "cell_type": "markdown",
      "metadata": {
        "id": "view-in-github",
        "colab_type": "text"
      },
      "source": [
        "<a href=\"https://colab.research.google.com/github/patrickpato/Deep-Learning-Exercises/blob/main/FlowerClassification_CNN.ipynb\" target=\"_parent\"><img src=\"https://colab.research.google.com/assets/colab-badge.svg\" alt=\"Open In Colab\"/></a>"
      ]
    },
    {
      "cell_type": "code",
      "metadata": {
        "id": "XeDlPuZ5U7i_"
      },
      "source": [
        "import tensorflow as tf\n",
        "import matplotlib.pyplot as plt\n",
        "import numpy as np \n",
        "import os \n",
        "import PIL\n",
        "\n",
        "from tensorflow import keras\n",
        "from tensorflow.keras import layers\n",
        "from tensorflow.keras.models import Sequential\n",
        "import pathlib\n"
      ],
      "execution_count": 4,
      "outputs": []
    },
    {
      "cell_type": "code",
      "metadata": {
        "colab": {
          "base_uri": "https://localhost:8080/"
        },
        "id": "FgmwQU66WJeF",
        "outputId": "6a65c475-e348-43bd-fbe2-de280428cbca"
      },
      "source": [
        "dataset_url = \"https://storage.googleapis.com/download.tensorflow.org/example_images/flower_photos.tgz\"\n",
        "data_dir = tf.keras.utils.get_file('flower_photos', origin=dataset_url, untar=True)\n",
        "data_dir = pathlib.Path(data_dir)"
      ],
      "execution_count": 5,
      "outputs": [
        {
          "output_type": "stream",
          "name": "stdout",
          "text": [
            "Downloading data from https://storage.googleapis.com/download.tensorflow.org/example_images/flower_photos.tgz\n",
            "228818944/228813984 [==============================] - 2s 0us/step\n",
            "228827136/228813984 [==============================] - 2s 0us/step\n"
          ]
        }
      ]
    },
    {
      "cell_type": "code",
      "metadata": {
        "colab": {
          "base_uri": "https://localhost:8080/"
        },
        "id": "XomM2SvQVJZq",
        "outputId": "a3252ece-c526-4d36-8983-a26a6956746d"
      },
      "source": [
        "#finding the total number of images in the selected directory\n",
        "num_images = len(list(data_dir.glob('*/*.jpg')))\n",
        "num_images"
      ],
      "execution_count": 8,
      "outputs": [
        {
          "output_type": "execute_result",
          "data": {
            "text/plain": [
              "3670"
            ]
          },
          "metadata": {},
          "execution_count": 8
        }
      ]
    },
    {
      "cell_type": "code",
      "metadata": {
        "id": "_QZMAhLKWhhu"
      },
      "source": [
        "#creating a dataset\n",
        "batch_size=32\n",
        "img_height = 180\n",
        "img_width = 180\n"
      ],
      "execution_count": 11,
      "outputs": []
    },
    {
      "cell_type": "code",
      "metadata": {
        "colab": {
          "base_uri": "https://localhost:8080/"
        },
        "id": "7H1smtHbXAb0",
        "outputId": "8b7839d0-226b-4de8-95cc-88480eb87479"
      },
      "source": [
        "train_df = tf.keras.utils.image_dataset_from_directory(data_dir, \n",
        "                                                       validation_split = 0.2, \n",
        "                                                       subset = \"training\", \n",
        "                                                       seed = 2021, \n",
        "                                                       image_size = (img_height, img_width), \n",
        "                                                       batch_size=batch_size)\n"
      ],
      "execution_count": 12,
      "outputs": [
        {
          "output_type": "stream",
          "name": "stdout",
          "text": [
            "Found 3670 files belonging to 5 classes.\n",
            "Using 2936 files for training.\n"
          ]
        }
      ]
    },
    {
      "cell_type": "code",
      "metadata": {
        "colab": {
          "base_uri": "https://localhost:8080/"
        },
        "id": "LotmCuUCaZEf",
        "outputId": "029a826e-d9d2-4742-db85-0cc1b786d91f"
      },
      "source": [
        "val_df = tf.keras.utils.image_dataset_from_directory(data_dir, \n",
        "                                                     validation_split=0.2, \n",
        "                                                     subset='validation', \n",
        "                                                     seed=2021,\n",
        "                                                     image_size=(img_height, img_width), \n",
        "                                                     batch_size=batch_size)\n"
      ],
      "execution_count": 13,
      "outputs": [
        {
          "output_type": "stream",
          "name": "stdout",
          "text": [
            "Found 3670 files belonging to 5 classes.\n",
            "Using 734 files for validation.\n"
          ]
        }
      ]
    },
    {
      "cell_type": "code",
      "metadata": {
        "colab": {
          "base_uri": "https://localhost:8080/"
        },
        "id": "EyXSZVlcafCF",
        "outputId": "bbb108b9-4247-4d2a-f8ec-64c7ea3df752"
      },
      "source": [
        "class_names = train_df.class_names\n",
        "class_names"
      ],
      "execution_count": 15,
      "outputs": [
        {
          "output_type": "execute_result",
          "data": {
            "text/plain": [
              "['daisy', 'dandelion', 'roses', 'sunflowers', 'tulips']"
            ]
          },
          "metadata": {},
          "execution_count": 15
        }
      ]
    },
    {
      "cell_type": "code",
      "metadata": {
        "id": "vZ1h7J6Pa1jC"
      },
      "source": [
        "AUTOTUNE = tf.data.AUTOTUNE\n",
        "\n",
        "train_ds = train_df.cache().shuffle(1000).prefetch(buffer_size=AUTOTUNE)\n",
        "val_ds = val_df.cache().prefetch(buffer_size=AUTOTUNE)"
      ],
      "execution_count": 17,
      "outputs": []
    },
    {
      "cell_type": "code",
      "metadata": {
        "id": "SRZcUUldb7m6"
      },
      "source": [
        "#data standardization\n",
        "normalization = layers.Rescaling(1./255)"
      ],
      "execution_count": 18,
      "outputs": []
    },
    {
      "cell_type": "code",
      "metadata": {
        "id": "0w1pJrObcEnA"
      },
      "source": [
        "model = Sequential([\n",
        "                    layers.Rescaling(1./255, input_shape=(img_height, img_weight, 3)), \n",
        "                    layers.Conv2D(16, 3, padding='same', activation='relu'), \n",
        "                    layers.MaxPooling2D(), \n",
        "                    layers.Conv2D(32, 3, padding='same', activation='relu'),\n",
        "                    layers.MaxPooling2D(), \n",
        "                    layers.Conv2D(64, 3, padding='same', activation='relu'), \n",
        "                    layers.MaxPooling2D(), \n",
        "                    layers.Flatten(), \n",
        "                    layers.Dense(128, activation=\"relu\"), \n",
        "                    layers.Dense(5) \n",
        "])"
      ],
      "execution_count": 20,
      "outputs": []
    },
    {
      "cell_type": "code",
      "metadata": {
        "id": "9TmihNk4eFBc"
      },
      "source": [
        "model.compile(optimizer=\"adam\", loss=tf.keras.losses.SparseCategoricalCrossentropy(from_logits=True),\n",
        "              metrics=['accuracy'])"
      ],
      "execution_count": 21,
      "outputs": []
    },
    {
      "cell_type": "code",
      "metadata": {
        "colab": {
          "base_uri": "https://localhost:8080/"
        },
        "id": "cu0bcOUTelXY",
        "outputId": "eec2c60d-3c3b-432f-bd19-174c9d60642c"
      },
      "source": [
        "model.summary()"
      ],
      "execution_count": 22,
      "outputs": [
        {
          "output_type": "stream",
          "name": "stdout",
          "text": [
            "Model: \"sequential_1\"\n",
            "_________________________________________________________________\n",
            "Layer (type)                 Output Shape              Param #   \n",
            "=================================================================\n",
            "rescaling_2 (Rescaling)      (None, 180, 180, 3)       0         \n",
            "_________________________________________________________________\n",
            "conv2d_3 (Conv2D)            (None, 180, 180, 16)      448       \n",
            "_________________________________________________________________\n",
            "max_pooling2d_3 (MaxPooling2 (None, 90, 90, 16)        0         \n",
            "_________________________________________________________________\n",
            "conv2d_4 (Conv2D)            (None, 90, 90, 32)        4640      \n",
            "_________________________________________________________________\n",
            "max_pooling2d_4 (MaxPooling2 (None, 45, 45, 32)        0         \n",
            "_________________________________________________________________\n",
            "conv2d_5 (Conv2D)            (None, 45, 45, 64)        18496     \n",
            "_________________________________________________________________\n",
            "max_pooling2d_5 (MaxPooling2 (None, 22, 22, 64)        0         \n",
            "_________________________________________________________________\n",
            "flatten_1 (Flatten)          (None, 30976)             0         \n",
            "_________________________________________________________________\n",
            "dense_2 (Dense)              (None, 128)               3965056   \n",
            "_________________________________________________________________\n",
            "dense_3 (Dense)              (None, 5)                 645       \n",
            "=================================================================\n",
            "Total params: 3,989,285\n",
            "Trainable params: 3,989,285\n",
            "Non-trainable params: 0\n",
            "_________________________________________________________________\n"
          ]
        }
      ]
    },
    {
      "cell_type": "code",
      "metadata": {
        "colab": {
          "base_uri": "https://localhost:8080/"
        },
        "id": "zhkM8iNwev5V",
        "outputId": "a3f60693-cc1f-4e0c-f5ef-7c1fe2cdf8d6"
      },
      "source": [
        "epochs=10\n",
        "history = model.fit(\n",
        "  train_ds,\n",
        "  validation_data=val_ds,\n",
        "  epochs=epochs\n",
        ")"
      ],
      "execution_count": 23,
      "outputs": [
        {
          "output_type": "stream",
          "name": "stdout",
          "text": [
            "Epoch 1/10\n",
            "92/92 [==============================] - 96s 982ms/step - loss: 1.2441 - accuracy: 0.4758 - val_loss: 1.1430 - val_accuracy: 0.5545\n",
            "Epoch 2/10\n",
            "92/92 [==============================] - 89s 971ms/step - loss: 0.9077 - accuracy: 0.6468 - val_loss: 1.0477 - val_accuracy: 0.5981\n",
            "Epoch 3/10\n",
            "92/92 [==============================] - 89s 972ms/step - loss: 0.6949 - accuracy: 0.7367 - val_loss: 1.0964 - val_accuracy: 0.6213\n",
            "Epoch 4/10\n",
            "92/92 [==============================] - 90s 974ms/step - loss: 0.4923 - accuracy: 0.8246 - val_loss: 1.0192 - val_accuracy: 0.6431\n",
            "Epoch 5/10\n",
            "92/92 [==============================] - 90s 976ms/step - loss: 0.3081 - accuracy: 0.8924 - val_loss: 1.2903 - val_accuracy: 0.6281\n",
            "Epoch 6/10\n",
            "92/92 [==============================] - 90s 976ms/step - loss: 0.1958 - accuracy: 0.9380 - val_loss: 1.5060 - val_accuracy: 0.6267\n",
            "Epoch 7/10\n",
            "92/92 [==============================] - 90s 979ms/step - loss: 0.1109 - accuracy: 0.9697 - val_loss: 1.5706 - val_accuracy: 0.6580\n",
            "Epoch 8/10\n",
            "92/92 [==============================] - 90s 980ms/step - loss: 0.0839 - accuracy: 0.9710 - val_loss: 1.7531 - val_accuracy: 0.6240\n",
            "Epoch 9/10\n",
            "92/92 [==============================] - 90s 977ms/step - loss: 0.0280 - accuracy: 0.9946 - val_loss: 2.0655 - val_accuracy: 0.6376\n",
            "Epoch 10/10\n",
            "92/92 [==============================] - 90s 981ms/step - loss: 0.0299 - accuracy: 0.9935 - val_loss: 2.0986 - val_accuracy: 0.6362\n"
          ]
        }
      ]
    },
    {
      "cell_type": "code",
      "metadata": {
        "id": "YhQ53OBTe1Zi"
      },
      "source": [
        ""
      ],
      "execution_count": null,
      "outputs": []
    }
  ]
}